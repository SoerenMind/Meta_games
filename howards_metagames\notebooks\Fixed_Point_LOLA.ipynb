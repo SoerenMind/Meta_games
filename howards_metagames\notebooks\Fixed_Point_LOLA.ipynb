{
  "nbformat": 4,
  "nbformat_minor": 0,
  "metadata": {
    "colab": {
      "name": "Fixed Point LOLA",
      "version": "0.3.2",
      "provenance": [],
      "collapsed_sections": []
    },
    "kernelspec": {
      "name": "python3",
      "display_name": "Python 3"
    }
  },
  "cells": [
    {
      "metadata": {
        "id": "IJCDV7MmsJEW",
        "colab_type": "code",
        "colab": {}
      },
      "cell_type": "code",
      "source": [
        "# http://pytorch.org/\n",
        "\n",
        "from copy import deepcopy\n",
        "\n",
        "from os import path\n",
        "from wheel.pep425tags import get_abbr_impl, get_impl_ver, get_abi_tag\n",
        "platform = '{}{}-{}'.format(get_abbr_impl(), get_impl_ver(), get_abi_tag())\n",
        "\n",
        "accelerator = 'cu80' if path.exists('/opt/bin/nvidia-smi') else 'cpu'\n",
        "\n",
        "!pip install -q http://download.pytorch.org/whl/{accelerator}/torch-0.4.1-{platform}-linux_x86_64.whl torchvision\n",
        "import torch\n",
        "import torch.nn.functional as F\n",
        "from torch.distributions import Categorical\n",
        "from torch.autograd import Variable\n",
        "from torch.nn import init\n",
        "from torch.optim import Adam, SGD\n",
        "import torch.nn as nn\n",
        "import numpy as np\n",
        "from scipy.signal import savgol_filter\n",
        "\n",
        "from scipy.signal import savgol_filter\n",
        "\n",
        "from torch.optim import Adam, SGD\n",
        "\n",
        "import matplotlib.pyplot as plt\n",
        "%matplotlib inline\n",
        "\n",
        "device = \"cpu\"\n",
        "if device == \"cpu\":\n",
        "    from torch import FloatTensor\n",
        "else:\n",
        "    from torch.cuda import FloatTensor"
      ],
      "execution_count": 0,
      "outputs": []
    },
    {
      "metadata": {
        "id": "NmAN4xq3VERx",
        "colab_type": "code",
        "colab": {}
      },
      "cell_type": "code",
      "source": [
        "import copy\n",
        "\n",
        "import torch\n",
        "\n",
        "\n",
        "def differentiable_gradient_step(module, loss, step_size, inplace=False):\n",
        "    \"\"\"A differentiable loss-minimizing gradient descent step on module parameters.\n",
        "    Args:\n",
        "        module: Perform gradient descent on parameters of this module.\n",
        "            A `torch.nn.Module`.\n",
        "        loss: The loss to minimize.\n",
        "        step_size: The gradient descent step size.\n",
        "        inplace: If true, modifies `module` in place. Otherwise, creates and\n",
        "            returns a copy.\n",
        "    Returns:\n",
        "        module: The module with updated parameters after gradient descent.\n",
        "            The original module object if `inplace` is True otherwise a copy.\n",
        "    Warning:\n",
        "        The output module parameters are turned into tensors.\n",
        "        The Module class tries to disallow this so there might be some\n",
        "        negative consequences. Be cautious when using the result.\n",
        "    \"\"\"\n",
        "    gradients = torch.autograd.grad(loss, module.parameters(), create_graph=True, allow_unused=True)\n",
        "\n",
        "    if not inplace:\n",
        "        module = copy.deepcopy(module)\n",
        "\n",
        "    for (param_name, param), gradient in zip(module.named_parameters(), gradients):\n",
        "        name_parts = param_name.split(\".\")\n",
        "        submodule = module\n",
        "        for part in name_parts[:-1]:\n",
        "            submodule = getattr(submodule, part)\n",
        "        # Modules do not allow assigning variables to parameters.\n",
        "        # Instead we have to directly modify the private _parameters dict.\n",
        "        # This might cause other problems but at least it works for gradients.\n",
        "        if gradient is not None:\n",
        "          submodule._parameters[name_parts[-1]] = param - step_size * gradient\n",
        "    return module\n",
        "\n",
        "  \n",
        "  \n",
        "\n",
        "def get_second_order_grad(grads, xs):\n",
        "    start = time.time()\n",
        "    grads2 = []\n",
        "\n",
        "    for grad in grads:\n",
        "      for x in xs:\n",
        "        grad = torch.reshape(grad, [-1])\n",
        "        grads2_tmp = []\n",
        "        for count, g in enumerate(grad):\n",
        "            g2 = torch.autograd.grad(g, x, retain_graph=True, allow_unused=True)[0]\n",
        "            g2 = torch.reshape(g2, [-1])\n",
        "            grads2_tmp.append(g2.data.cpu().numpy())\n",
        "        grads2_tmp=np.array(grads2_tmp)\n",
        "        grads2.append(torch.from_numpy(grads2_tmp).to(device))\n",
        "\n",
        "    return grads2\n",
        "\n"
      ],
      "execution_count": 0,
      "outputs": []
    },
    {
      "metadata": {
        "id": "gj32bbFZDbXf",
        "colab_type": "code",
        "colab": {}
      },
      "cell_type": "code",
      "source": [
        "def weights_init(m, std):\n",
        "  vals = list(m.parameters())[0]\n",
        "  vals.data.normal_(0.0, std)\n",
        "\n",
        "def get_return(agent_a, agent_b, overwrite = None, ent_regul_A=0, L2_regul_A=0):\n",
        "  if overwrite is not None:\n",
        "    batchsize = overwrite.data.numpy().shape[0]\n",
        "#   print(weights_a)\n",
        "    weights_a = overwrite\n",
        "    agent_a_in_b = overwrite\n",
        "  else:\n",
        "    weights_a = list(agent_a.parameters())[0].transpose(1,0)\n",
        "    batchsize = weights_a.data.numpy().shape[0]\n",
        "  if stop_grad:\n",
        "    agent_a_in_b = weights_a.clone().detach()\n",
        "  else:\n",
        "    agent_a_in_b = weights_a\n",
        "  pi_b = nn.Softmax(1)( agent_b(  agent_a_in_b )*1) # prob of agent B cooperating given agent A's policy \n",
        "#   pi_b[:,0]=1\n",
        "#   pi_b[:,1]=0\n",
        "  rews = torch.tensor([[0.0, 0.0]]*batchsize )\n",
        "  for u_b in [0,1]:\n",
        "    p_u_b = pi_b[:,u_b]\n",
        "    pi_a =  nn.Softmax(0)(torch.stack((weights_a[:,u_b],weights_a[:,u_b] * 0)))    # weird hack with *0\n",
        "    # Entropy regularization\n",
        "    if ent_regul_A:\n",
        "      policy_a = nn.Sigmoid()(weights_a)\n",
        "      entropies = policy_a * torch.log(policy_a) + (1-policy_a) * torch.log(1-policy_a)\n",
        "      rews[:,0] -= ent_regul_A * torch.sum(entropies,1)\n",
        "    # L2 regularization\n",
        "    rews[:,0] -= L2_regul_A * weights_a.view(-1).dot(weights_a.view(-1))\n",
        "    for u_a in [0, 1]:\n",
        "      prob = pi_a[u_a] * p_u_b \n",
        "      # C  / D = 0 / 1. [-3, 0]\n",
        "      rews[:,0]+= prob * payout[ u_a, u_b]   \n",
        "      rews[:,1]+= prob * payout[ u_b, u_a]\n",
        "  return -rews\n",
        "\n",
        "def get_A_to_cooperate(agent_a, agent_b, overwrite = None, ent_regul_A=0):\n",
        "  \"\"\"Alternative get_return where B is rewarded for getting A to cooperate.\n",
        "  A is rewarded for getting B to cooperate.\"\"\"\n",
        "  payout = torch.tensor(np.array([[-1.01,-2.01],[-1.0, -2.0]]), dtype=torch.float)\n",
        "  if overwrite is not None:\n",
        "    batchsize = overwrite.data.numpy().shape[0]\n",
        "    weights_a = overwrite\n",
        "    agent_a_in_b = overwrite\n",
        "  else:\n",
        "    weights_a = list(agent_a.parameters())[0].transpose(1,0)\n",
        "    batchsize = weights_a.data.numpy().shape[0]\n",
        "  if stop_grad:\n",
        "    agent_a_in_b = weights_a.clone().detach()\n",
        "  else:\n",
        "    agent_a_in_b = weights_a\n",
        "  pi_b = nn.Softmax(1)( agent_b(  agent_a_in_b )*1) # prob of agent B cooperating given agent A's policy \n",
        "#   pi_b[:,0]=1\n",
        "#   pi_b[:,1]=0\n",
        "  rews = torch.tensor([[0.0, 0.0]]*batchsize )\n",
        "  for u_b in [0,1]:\n",
        "    p_u_b = pi_b[:,u_b]\n",
        "    pi_a =  nn.Softmax(0)(torch.stack((weights_a[:,u_b],weights_a[:,u_b] * 0)))    # weird hack with *0\n",
        "    # Entropy regularization\n",
        "    if ent_regul_A:\n",
        "      policy_a = nn.Sigmoid()(weights_a)\n",
        "      entropies = policy_a * torch.log(policy_a) + (1-policy_a) * torch.log(1-policy_a)\n",
        "      rews[:,0] -= ent_regul_A * torch.sum(entropies,1)\n",
        "    for u_a in [0, 1]:\n",
        "      prob = pi_a[u_a] * p_u_b \n",
        "      # C  / D = 0 / 1. [-3, 0]\n",
        "      rews[:,0]+= prob * payout[ u_a, u_b]   \n",
        "      rews[:,1]+= prob * payout[ u_b, u_a]\n",
        "  return -rews"
      ],
      "execution_count": 0,
      "outputs": []
    },
    {
      "metadata": {
        "id": "bYyEkT3dKGS_",
        "colab_type": "code",
        "outputId": "64c2139e-86cd-42d3-fd2b-92bc30e0a505",
        "colab": {
          "base_uri": "https://localhost:8080/",
          "height": 408
        }
      },
      "cell_type": "code",
      "source": [
        "\n",
        "\n",
        "# Minimal example\n",
        "\n",
        "\n",
        "\n",
        "\n",
        "def printnetwork(x_range):\n",
        "  numvals = 30\n",
        "  results = np.zeros((numvals, numvals))\n",
        "  ticks = []\n",
        "  for x in range(numvals):\n",
        "    ticks.append( -x_range + x/numvals*2*x_range)\n",
        "    for y in range(numvals):\n",
        "      results[x, y ] = nn.Softmax(0)( agent_b(  torch.tensor([-x_range + x/numvals*2*x_range,-x_range + y/numvals*2*x_range] )) )[0] # prob of agent B cooperating given agentA's policy\n",
        "  plt.imshow(results.T,cmap = 'jet', origin='lower')\n",
        "  ax = plt.gca()\n",
        "  ax.set_xticks(np.arange(0, numvals+1,numvals//5))\n",
        "  ax.set_yticks(np.arange(0, numvals+1,numvals//5))\n",
        "  ax.set_xticklabels((100*np.arange(-x_range, x_range+0.1, 1 /5 * 2* x_range))//1 / numvals)\n",
        "  ax.set_yticklabels((100*np.arange(-x_range, x_range+0.1,  1 /5* 2* x_range))//1 / numvals)\n",
        "  # plt.xticks(ticks)\n",
        "  plt.colorbar()\n",
        "\n",
        "def printagentaval(x_range):\n",
        "  numvals = 100\n",
        "  results = np.zeros((numvals, numvals, 2))\n",
        "  ticks = []\n",
        "  for x in range(numvals):\n",
        "    ticks.append( -x_range + x/numvals*2*x_range)\n",
        "    for y in range(numvals):\n",
        "      overwrite = torch.tensor([[-x_range + x/numvals*2*x_range,-x_range + y/numvals*2*x_range]] )\n",
        "      results[x, y ] =  -get_return(agent_a, agent_b, overwrite=overwrite).data \n",
        "  return results\n",
        "\n",
        "plt.figure(figsize=(18,6))\n",
        "t = True\n",
        "f = False\n",
        "x_range = 20\n",
        "plt.subplot(1,3,1)\n",
        "p = f\n",
        "stop_grad = f\n",
        "cooperative = f\n",
        "dbg = f\n",
        "# Seed 29 rocks! \n",
        "\n",
        "batchsize = 3\n",
        "agent_a = nn.Sequential(\n",
        "    nn.Linear(batchsize, 2, bias=False),\n",
        ")\n",
        "\n",
        "  \n",
        "\n",
        "for m in range(150, 151):\n",
        "  numvals = 30\n",
        "\n",
        "  torch.manual_seed(m)\n",
        "\n",
        "  nonlin = nn.Tanh() #nn.ReLU()\n",
        "  nonlin = nn.ReLU()\n",
        "\n",
        "  # torch.manual_seed(seed)\n",
        "\n",
        "  agent_b = nn.Sequential(\n",
        "      nn.Linear(2, 32),\n",
        "      nonlin,\n",
        "      nn.Linear(32, 32),\n",
        "      nonlin,\n",
        "  #     nn.Linear(32, 32),\n",
        "  #     nn.ReLU(),\n",
        "      nn.Linear(32, 2)\n",
        "  )\n",
        "  lrs = [0.05, 0.005]\n",
        "  ops = [SGD, SGD]\n",
        "\n",
        "  payout = torch.tensor(np.array([[-1.0,-3.0],[0.0, -2.0]]), dtype=torch.float)\n",
        "  for i, net in enumerate([agent_a, agent_b]):\n",
        "    net.optimizer = ops[i](net.parameters(), lr=lrs[i])\n",
        "  printnetwork( x_range )\n",
        "\n",
        "  results = printagentaval(x_range)\n",
        "\n",
        "\n",
        "  titles = ['A', 'B']\n",
        "  if p:\n",
        "    for i in range( 2 ):\n",
        "      plt.subplot(1,3, i + 2)\n",
        "      plt.imshow(results[:,:,i].T,cmap = 'jet', origin='lower')\n",
        "      ax = plt.gca()\n",
        "      ax.set_xticks(np.arange(0, 101,20))\n",
        "      ax.set_yticks(np.arange(0, 101,20))\n",
        "      ax.set_xticklabels(np.arange(-x_range, x_range+1, 2*x_range//5))\n",
        "      ax.set_yticklabels(np.arange(-x_range, x_range+1, 2*x_range//5))\n",
        "      plt.colorbar()\n",
        "      plt.title(titles[i])\n",
        "\n",
        "  a = results[:,:,0]\n",
        "  ind = np.unravel_index(np.argmax(a, axis=None), a.shape)\n",
        "\n",
        "  print('seed', m, 'player B points:', (results[ind[0],ind[1],1]*10)//1 /10 )\n",
        "  print('ind ', ind)\n",
        "  \n",
        "  print('pos', ((-x_range + ind[0]/numvals*2*x_range)*10 )//1 /10,((-x_range + ind[1]/numvals*2*x_range)*10 )//1 /10 )"
      ],
      "execution_count": 0,
      "outputs": [
        {
          "output_type": "stream",
          "text": [
            "seed 150 player B points: -3.0\n",
            "ind  (0, 0)\n",
            "pos -20.0 -20.0\n"
          ],
          "name": "stdout"
        },
        {
          "output_type": "display_data",
          "data": {
            "image/png": "[encoded data removed]",
            "text/plain": [
              "<Figure size 1296x432 with 2 Axes>"
            ]
          },
          "metadata": {
            "tags": []
          }
        }
      ]
    },
    {
      "metadata": {
        "id": "ZGSrDsgVLR5p",
        "colab_type": "code",
        "colab": {}
      },
      "cell_type": "code",
      "source": [
        "def set_weight(m, overwrite):\n",
        "  vals = list(m.parameters())[0]\n",
        "  vals.data = overwrite"
      ],
      "execution_count": 0,
      "outputs": []
    },
    {
      "metadata": {
        "id": "LI_qfccFe6Mr",
        "colab_type": "code",
        "outputId": "3559833c-e618-4685-aeac-4e6a5e59759d",
        "colab": {
          "base_uri": "https://localhost:8080/",
          "height": 2819
        }
      },
      "cell_type": "code",
      "source": [
        "import torch\n",
        "import time\n",
        "%pdb on\n",
        "# import pdb\n",
        "\n",
        "\n",
        "# config A: \n",
        "# seed = 29\n",
        "# x = 48\n",
        "# y = 43\n",
        "\n",
        "# config B:\n",
        "seed = 107\n",
        "x = 44\n",
        "y = 37\n",
        "\n",
        "# Config C (For Tanh nonlinearity)\n",
        "# seed = 106 #player B points: -1.9675742387771606\n",
        "# x = 18\n",
        "# y = 88\n",
        "\n",
        "# Hyperparams\n",
        "numvals = 100   \n",
        "x_range = 20    \n",
        "steps = 100      # optim steps\n",
        "vals_res = []\n",
        "agent_a_steps = 200   # inner steps\n",
        "lola = True     # fixed point LOLA\n",
        "lrs = [0.1, 0.002] # before: [0.5, 0.002]\n",
        "ops = [SGD, SGD]\n",
        "ent_regul_A = 0\n",
        "L2_regul_A = 0.1\n",
        "return_fn = get_return # get_A_to_cooperate get_return\n",
        "\n",
        "overwrite = torch.transpose(torch.tensor([[-x_range + x/numvals*2*x_range,-x_range + y/numvals*2*x_range]] ),1,0)\n",
        "print('overwrite', overwrite)\n",
        "set_weight( agent_a, overwrite)\n",
        "\n",
        "nonlin = nn.ReLU() #nn.Tanh() \n",
        "\n",
        "torch.manual_seed(seed)\n",
        "\n",
        "agent_b = nn.Sequential(\n",
        "    nn.Linear(2, 32),\n",
        "    nonlin,\n",
        "#     nn.Linear(32, 32),\n",
        "#     nonlin,\n",
        "#     nn.Linear(32, 32),\n",
        "#     nn.ReLU(),\n",
        "    nn.Linear(32, 2)\n",
        ")\n",
        "\n",
        "for i, net in enumerate([agent_a, agent_b]):\n",
        "  net.optimizer = ops[i](net.parameters(), lr=lrs[i])\n",
        "\n",
        "plt.figure(figsize=(18, 50))\n",
        "x_range = 8\n",
        "for t in range(steps):\n",
        "  plt.subplot(15,4, t+1)\n",
        "#   printnetwork( x_range )\n",
        "\n",
        "  results = printagentaval(x_range)\n",
        "  a = results[:,:,0]\n",
        "  ind = np.unravel_index(np.argmax(a, axis=None), a.shape)\n",
        "#   print( ind )\n",
        "#   values_pre_opt = agent_a.optimizer.param_groups[0]['params'][0].data.numpy()\n",
        "  for i in range(1 ):\n",
        "#     plt.subplot(1,3, i + 2)\n",
        "    plt.imshow(results[:,:,i].T,cmap = 'jet', origin='lower')\n",
        "    ax = plt.gca()\n",
        "    ax.set_xticks(np.arange(0, 101,20))\n",
        "    ax.set_yticks(np.arange(0, 101,20))\n",
        "    ax.set_xticklabels((100*np.arange(-x_range, x_range+1, 20 /100 * 2* x_range))//1 / 100)\n",
        "    ax.set_yticklabels((100*np.arange(-x_range, x_range+1, 20 /100 * 2* x_range))//1 / 100)\n",
        "\n",
        "    plt.colorbar()\n",
        "    plt.title(titles[i])\n",
        "\n",
        "  values_pre_opt = agent_a.optimizer.param_groups[0]['params'][0].data.numpy()\n",
        "  \n",
        "  val_ind = [ max(0, min(100, ((x_val + x_range)*numvals/ (2 *x_range))//1) ) for x_val in values_pre_opt ]\n",
        "  plt.scatter(val_ind[0], val_ind[1 ] )\n",
        "  val_ind = [ (x_val + x_range)*numvals/ (2 *x_range) for x_val in values_pre_opt ]\n",
        "#   plt.scatter( values_pre_opt[0], values_pre_opt[0], 'r')\n",
        "#   if t % 100 == 0:\n",
        "  print('step, ', t)\n",
        "\n",
        "  # optimize the heck out of agent A\n",
        "  for step in range( agent_a_steps ):\n",
        "    objective1 = return_fn(agent_a, agent_b, ent_regul_A=ent_regul_A, L2_regul_A=L2_regul_A)[:,0].sum()\n",
        "    agent_a.optimizer.zero_grad()\n",
        "    objective1.backward()\n",
        "    agent_a.optimizer.step()\n",
        "    \n",
        "  values_post_opt = agent_a.optimizer.param_groups[0]['params'][0].data.numpy()\n",
        "  val_ind = [ max(0, min(100, ((x_val + x_range)*numvals/ (2 *x_range))//1) ) for x_val in values_post_opt ]\n",
        "  plt.scatter(val_ind[0], val_ind[1 ])\n",
        "  \n",
        "  print( values_post_opt[:,0]  )\n",
        "  rews = return_fn(agent_a, agent_b, ent_regul_A=ent_regul_A, L2_regul_A=L2_regul_A)\n",
        "  vals_res.append(-rews[0,1].data.numpy())\n",
        "  va = rews[:,0].sum()\n",
        "  vb = rews[:,1].sum()\n",
        "  agent_a.optimizer.zero_grad()\n",
        "  agent_b.optimizer.zero_grad()\n",
        "\n",
        "  xs = agent_a.optimizer.param_groups[0]['params']\n",
        "  ys = agent_b.optimizer.param_groups[0]['params']\n",
        "  vb_y = torch.autograd.grad(vb, ys, create_graph=True, retain_graph=True ) # first order gradient\n",
        "  \n",
        "  if lola:\n",
        "    va_x = torch.autograd.grad(va, xs, create_graph=True, retain_graph=True )  # first order gradient\n",
        "    va_xx = get_second_order_grad(va_x, xs)  # second order gradient\n",
        "\n",
        "    vb_x = torch.autograd.grad(vb, xs, create_graph=True, retain_graph=True )  # first order gradient\n",
        "    va_xy = get_second_order_grad(va_x, ys)  # second order gradient\n",
        "\n",
        "    for i in range(len( ys )):\n",
        "      delta_y = vb_y[i] - torch.reshape( va_xy[i].transpose(1,0) .matmul((va_xx[0].inverse()).matmul(vb_x[0])),vb_y[i].shape)\n",
        "      vals = list(agent_b.parameters())[i]\n",
        "      vals.data =-delta_y * lrs[1] + agent_b.optimizer.param_groups[0]['params'][i] \n",
        "  else:\n",
        "     for i in range(len( ys )):\n",
        "      delta_y = vb_y[i]\n",
        "      vals = list(agent_b.parameters())[i]\n",
        "      vals.data =-delta_y * lrs[1]  + agent_b.optimizer.param_groups[0]['params'][i] \n",
        "    \n",
        "  rews = -return_fn(agent_a, agent_b, ent_regul_A=ent_regul_A, L2_regul_A=L2_regul_A)\n",
        "# plt.plot(vals_res  )"
      ],
      "execution_count": 0,
      "outputs": [
        {
          "output_type": "stream",
          "text": [
            "Automatic pdb calling has been turned ON\n",
            "overwrite tensor([[-2.4000],\n",
            "        [-5.2000]])\n",
            "step,  0\n",
            "[-0.58714664 -0.37144727]\n",
            "step,  1\n",
            "[-0.58222944 -0.36773297]\n",
            "step,  2\n",
            "[-0.5772053 -0.3644732]\n",
            "step,  3\n",
            "[-0.57689416 -0.36364233]\n",
            "step,  4\n",
            "[-0.57531565 -0.36208174]\n",
            "step,  5\n",
            "[-0.57654876 -0.36210027]\n",
            "step,  6\n",
            "[-0.5761604  -0.36112428]\n",
            "step,  7\n",
            "[-0.57709897 -0.360835  ]\n",
            "step,  8\n",
            "[-0.57682693 -0.35986263]\n",
            "step,  9\n",
            "[-0.57744104 -0.35933787]\n",
            "step,  10\n",
            "[-0.57618463 -0.35777467]\n",
            "step,  11\n",
            "[-0.57766044 -0.35775125]\n",
            "step,  12\n",
            "[-0.576327   -0.35608852]\n",
            "step,  13\n",
            "[-0.5770833  -0.35561645]\n",
            "step,  14\n",
            "[-0.5774563  -0.35490176]\n",
            "step,  15\n",
            "[-0.5730133 -0.3516671]\n",
            "step,  16\n",
            "[-0.5685673 -0.3483972]\n",
            "step,  17\n",
            "[-0.5641209  -0.34509295]\n",
            "step,  18\n",
            "[-0.5596753 -0.3417551]\n",
            "step,  19\n",
            "[-0.55523163 -0.33838463]\n",
            "step,  20\n",
            "[-0.550791  -0.3349824]\n",
            "step,  21\n",
            "[-0.5463547 -0.3315492]\n",
            "step,  22\n",
            "[-0.54192364 -0.32808608]\n",
            "step,  23\n",
            "[-0.53749907 -0.3245939 ]\n",
            "step,  24\n",
            "[-0.50856745 -0.31740776]\n",
            "step,  25\n",
            "[-0.50506717 -0.31393662]\n",
            "step,  26\n",
            "[-0.5015768 -0.3104423]\n",
            "step,  27\n",
            "[-0.49809173 -0.30692527]\n",
            "step,  28\n",
            "[-0.49461254 -0.30338645]\n",
            "step,  29\n",
            "[-0.49113986 -0.29982644]\n",
            "step,  30\n",
            "[-0.4876744  -0.29624602]\n",
            "step,  31\n",
            "[-0.4842168  -0.29264596]\n",
            "step,  32\n",
            "[-0.48076755 -0.28902698]\n",
            "step,  33\n",
            "[-0.4773274  -0.28538987]\n",
            "step,  34\n",
            "[-0.47389683 -0.2817352 ]\n",
            "step,  35\n",
            "[-0.47047648 -0.2780639 ]\n",
            "step,  36\n",
            "[-0.46706685 -0.27437645]\n",
            "step,  37\n",
            "[-0.46366858 -0.2706738 ]\n",
            "step,  38\n",
            "[-0.4602821 -0.2669565]\n",
            "step,  39\n",
            "[-0.45690796 -0.26322535]\n",
            "step,  40\n",
            "[-0.4535467  -0.25948083]\n",
            "step,  41\n",
            "[-0.45019874 -0.25572386]\n",
            "step,  42\n",
            "[-0.4468645 -0.251955 ]\n",
            "step,  43\n",
            "[-0.4435445 -0.2481748]\n",
            "step,  44\n",
            "[-0.44023922 -0.2443841 ]\n",
            "step,  45\n",
            "[-0.43694898 -0.24058338]\n",
            "step,  46\n",
            "[-0.4336742  -0.23677324]\n",
            "step,  47\n",
            "[-0.43041536 -0.23295452]\n",
            "step,  48\n",
            "[-0.42717263 -0.22912745]\n",
            "step,  49\n",
            "[-0.42394653 -0.22529298]\n",
            "step,  50\n",
            "[-0.4207374  -0.22145152]\n",
            "step,  51\n",
            "[-0.41754544 -0.21760358]\n",
            "step,  52\n",
            "[-0.41437107 -0.21374981]\n",
            "step,  53\n",
            "[-0.4446416  -0.09626955]\n",
            "step,  54\n",
            "[-0.44105366 -0.09326094]\n",
            "step,  55\n",
            "[-0.43745506 -0.0903406 ]\n",
            "step,  56\n",
            "[-0.4338774  -0.08741669]\n",
            "step,  57\n",
            "[-0.43032104 -0.08448955]\n",
            "step,  58\n",
            "[-0.42678618 -0.08155935]\n",
            "step,  59\n",
            "[-0.4232731  -0.07862653]\n"
          ],
          "name": "stdout"
        },
        {
          "output_type": "error",
          "ename": "ValueError",
          "evalue": "ignored",
          "traceback": [
            "\u001b[0;31m---------------------------------------------------------------------------\u001b[0m",
            "\u001b[0;31mValueError\u001b[0m                                Traceback (most recent call last)",
            "\u001b[0;32m<ipython-input-8-f1cb7f385e3e>\u001b[0m in \u001b[0;36m<module>\u001b[0;34m()\u001b[0m\n\u001b[1;32m     57\u001b[0m \u001b[0mx_range\u001b[0m \u001b[0;34m=\u001b[0m \u001b[0;36m8\u001b[0m\u001b[0;34m\u001b[0m\u001b[0;34m\u001b[0m\u001b[0m\n\u001b[1;32m     58\u001b[0m \u001b[0;32mfor\u001b[0m \u001b[0mt\u001b[0m \u001b[0;32min\u001b[0m \u001b[0mrange\u001b[0m\u001b[0;34m(\u001b[0m\u001b[0msteps\u001b[0m\u001b[0;34m)\u001b[0m\u001b[0;34m:\u001b[0m\u001b[0;34m\u001b[0m\u001b[0;34m\u001b[0m\u001b[0m\n\u001b[0;32m---> 59\u001b[0;31m   \u001b[0mplt\u001b[0m\u001b[0;34m.\u001b[0m\u001b[0msubplot\u001b[0m\u001b[0;34m(\u001b[0m\u001b[0;36m15\u001b[0m\u001b[0;34m,\u001b[0m\u001b[0;36m4\u001b[0m\u001b[0;34m,\u001b[0m \u001b[0mt\u001b[0m\u001b[0;34m+\u001b[0m\u001b[0;36m1\u001b[0m\u001b[0;34m)\u001b[0m\u001b[0;34m\u001b[0m\u001b[0;34m\u001b[0m\u001b[0m\n\u001b[0m\u001b[1;32m     60\u001b[0m \u001b[0;31m#   printnetwork( x_range )\u001b[0m\u001b[0;34m\u001b[0m\u001b[0;34m\u001b[0m\u001b[0;34m\u001b[0m\u001b[0m\n\u001b[1;32m     61\u001b[0m \u001b[0;34m\u001b[0m\u001b[0m\n",
            "\u001b[0;32m/usr/local/lib/python3.6/dist-packages/matplotlib/pyplot.py\u001b[0m in \u001b[0;36msubplot\u001b[0;34m(*args, **kwargs)\u001b[0m\n\u001b[1;32m   1082\u001b[0m \u001b[0;34m\u001b[0m\u001b[0m\n\u001b[1;32m   1083\u001b[0m     \u001b[0mfig\u001b[0m \u001b[0;34m=\u001b[0m \u001b[0mgcf\u001b[0m\u001b[0;34m(\u001b[0m\u001b[0;34m)\u001b[0m\u001b[0;34m\u001b[0m\u001b[0;34m\u001b[0m\u001b[0m\n\u001b[0;32m-> 1084\u001b[0;31m     \u001b[0ma\u001b[0m \u001b[0;34m=\u001b[0m \u001b[0mfig\u001b[0m\u001b[0;34m.\u001b[0m\u001b[0madd_subplot\u001b[0m\u001b[0;34m(\u001b[0m\u001b[0;34m*\u001b[0m\u001b[0margs\u001b[0m\u001b[0;34m,\u001b[0m \u001b[0;34m**\u001b[0m\u001b[0mkwargs\u001b[0m\u001b[0;34m)\u001b[0m\u001b[0;34m\u001b[0m\u001b[0;34m\u001b[0m\u001b[0m\n\u001b[0m\u001b[1;32m   1085\u001b[0m     \u001b[0mbbox\u001b[0m \u001b[0;34m=\u001b[0m \u001b[0ma\u001b[0m\u001b[0;34m.\u001b[0m\u001b[0mbbox\u001b[0m\u001b[0;34m\u001b[0m\u001b[0;34m\u001b[0m\u001b[0m\n\u001b[1;32m   1086\u001b[0m     \u001b[0mbyebye\u001b[0m \u001b[0;34m=\u001b[0m \u001b[0;34m[\u001b[0m\u001b[0;34m]\u001b[0m\u001b[0;34m\u001b[0m\u001b[0;34m\u001b[0m\u001b[0m\n",
            "\u001b[0;32m/usr/local/lib/python3.6/dist-packages/matplotlib/figure.py\u001b[0m in \u001b[0;36madd_subplot\u001b[0;34m(self, *args, **kwargs)\u001b[0m\n\u001b[1;32m   1365\u001b[0m                     \u001b[0mself\u001b[0m\u001b[0;34m.\u001b[0m\u001b[0m_axstack\u001b[0m\u001b[0;34m.\u001b[0m\u001b[0mremove\u001b[0m\u001b[0;34m(\u001b[0m\u001b[0max\u001b[0m\u001b[0;34m)\u001b[0m\u001b[0;34m\u001b[0m\u001b[0;34m\u001b[0m\u001b[0m\n\u001b[1;32m   1366\u001b[0m \u001b[0;34m\u001b[0m\u001b[0m\n\u001b[0;32m-> 1367\u001b[0;31m             \u001b[0ma\u001b[0m \u001b[0;34m=\u001b[0m \u001b[0msubplot_class_factory\u001b[0m\u001b[0;34m(\u001b[0m\u001b[0mprojection_class\u001b[0m\u001b[0;34m)\u001b[0m\u001b[0;34m(\u001b[0m\u001b[0mself\u001b[0m\u001b[0;34m,\u001b[0m \u001b[0;34m*\u001b[0m\u001b[0margs\u001b[0m\u001b[0;34m,\u001b[0m \u001b[0;34m**\u001b[0m\u001b[0mkwargs\u001b[0m\u001b[0;34m)\u001b[0m\u001b[0;34m\u001b[0m\u001b[0;34m\u001b[0m\u001b[0m\n\u001b[0m\u001b[1;32m   1368\u001b[0m         \u001b[0mself\u001b[0m\u001b[0;34m.\u001b[0m\u001b[0m_axstack\u001b[0m\u001b[0;34m.\u001b[0m\u001b[0madd\u001b[0m\u001b[0;34m(\u001b[0m\u001b[0mkey\u001b[0m\u001b[0;34m,\u001b[0m \u001b[0ma\u001b[0m\u001b[0;34m)\u001b[0m\u001b[0;34m\u001b[0m\u001b[0;34m\u001b[0m\u001b[0m\n\u001b[1;32m   1369\u001b[0m         \u001b[0mself\u001b[0m\u001b[0;34m.\u001b[0m\u001b[0msca\u001b[0m\u001b[0;34m(\u001b[0m\u001b[0ma\u001b[0m\u001b[0;34m)\u001b[0m\u001b[0;34m\u001b[0m\u001b[0;34m\u001b[0m\u001b[0m\n",
            "\u001b[0;32m/usr/local/lib/python3.6/dist-packages/matplotlib/axes/_subplots.py\u001b[0m in \u001b[0;36m__init__\u001b[0;34m(self, fig, *args, **kwargs)\u001b[0m\n\u001b[1;32m     58\u001b[0m                     raise ValueError(\n\u001b[1;32m     59\u001b[0m                         (\"num must be 1 <= num <= {maxn}, not {num}\"\n\u001b[0;32m---> 60\u001b[0;31m                         ).format(maxn=rows*cols, num=num))\n\u001b[0m\u001b[1;32m     61\u001b[0m                 self._subplotspec = GridSpec(\n\u001b[1;32m     62\u001b[0m                         rows, cols, figure=self.figure)[int(num) - 1]\n",
            "\u001b[0;31mValueError\u001b[0m: num must be 1 <= num <= 60, not 61"
          ]
        },
        {
          "output_type": "stream",
          "text": [
            "> \u001b[0;32m/usr/local/lib/python3.6/dist-packages/matplotlib/axes/_subplots.py\u001b[0m(60)\u001b[0;36m__init__\u001b[0;34m()\u001b[0m\n",
            "\u001b[0;32m     58 \u001b[0;31m                    raise ValueError(\n",
            "\u001b[0m\u001b[0;32m     59 \u001b[0;31m                        (\"num must be 1 <= num <= {maxn}, not {num}\"\n",
            "\u001b[0m\u001b[0;32m---> 60 \u001b[0;31m                        ).format(maxn=rows*cols, num=num))\n",
            "\u001b[0m\u001b[0;32m     61 \u001b[0;31m                self._subplotspec = GridSpec(\n",
            "\u001b[0m\u001b[0;32m     62 \u001b[0;31m                        rows, cols, figure=self.figure)[int(num) - 1]\n",
            "\u001b[0m\n"
          ],
          "name": "stdout"
        }
      ]
    },
    {
      "metadata": {
        "id": "D_vCbNqUAYME",
        "colab_type": "code",
        "colab": {}
      },
      "cell_type": "code",
      "source": [
        "plt.plot(vals_res  )"
      ],
      "execution_count": 0,
      "outputs": []
    },
    {
      "metadata": {
        "id": "nEZ1pJFxI1Xe",
        "colab_type": "code",
        "outputId": "cc47a7de-c866-489c-ae67-60d1bdec820d",
        "colab": {
          "base_uri": "https://localhost:8080/",
          "height": 297
        }
      },
      "cell_type": "code",
      "source": [
        "i  = 0\n",
        "from matplotlib.ticker import FormatStrFormatter\n",
        "\n",
        "plt.imshow(results[:,:,i].T,cmap = 'jet', origin='lower')\n",
        "ax = plt.gca()\n",
        "ax.set_xticks(np.arange(0, 101,20))\n",
        "ax.set_yticks(np.arange(0, 101,20))\n",
        "ax.set_xticklabels((100*np.arange(-x_range, x_range+0.1, 20 /100 * 2* x_range))//1 / 100)\n",
        "ax.set_yticklabels((100*np.arange(-x_range, x_range+0.1, 20 /100 * 2* x_range))//1 / 100)\n",
        "\n",
        "plt.colorbar()\n",
        "plt.title(titles[i])\n",
        "\n",
        "plt.scatter( 30, 40)"
      ],
      "execution_count": 0,
      "outputs": [
        {
          "output_type": "execute_result",
          "data": {
            "text/plain": [
              "<matplotlib.collections.PathCollection at 0x7f235c223a90>"
            ]
          },
          "metadata": {
            "tags": []
          },
          "execution_count": 12
        },
        {
          "output_type": "display_data",
          "data": {
            "image/png": "[encoded data removed]",
            "text/plain": [
              "<Figure size 432x288 with 2 Axes>"
            ]
          },
          "metadata": {
            "tags": []
          }
        }
      ]
    },
    {
      "metadata": {
        "id": "2_IeJgb1MhY6",
        "colab_type": "code",
        "outputId": "45816677-c490-4175-ab9a-8da9624a21ef",
        "colab": {
          "base_uri": "https://localhost:8080/",
          "height": 295
        }
      },
      "cell_type": "code",
      "source": [
        "plt.scatter(val_ind[0], val_ind[1 ] )"
      ],
      "execution_count": 0,
      "outputs": [
        {
          "output_type": "execute_result",
          "data": {
            "text/plain": [
              "<matplotlib.collections.PathCollection at 0x7f235bda8898>"
            ]
          },
          "metadata": {
            "tags": []
          },
          "execution_count": 13
        },
        {
          "output_type": "display_data",
          "data": {
            "image/png": "[encoded data removed]",
            "text/plain": [
              "<Figure size 432x288 with 1 Axes>"
            ]
          },
          "metadata": {
            "tags": []
          }
        }
      ]
    },
    {
      "metadata": {
        "id": "jDigRJfy7tvx",
        "colab_type": "code",
        "outputId": "74581f6e-7043-40b1-fee8-477358dd5713",
        "colab": {
          "base_uri": "https://localhost:8080/",
          "height": 417
        }
      },
      "cell_type": "code",
      "source": [
        "plt.figure(figsize=(18,6))\n",
        "\n",
        "x_range = 20\n",
        "plt.subplot(1,3,1)\n",
        "p = t\n",
        "\n",
        "# Seed 29 rocks! \n",
        "\n",
        "batchsize = 1\n",
        "\n",
        "printnetwork( x_range )\n",
        "\n",
        "results = printagentaval(x_range)\n",
        "\n",
        "\n",
        "titles = ['A', 'B']\n",
        "if p:\n",
        "  for i in range( 2 ):\n",
        "    plt.subplot(1,3, i + 2)\n",
        "    plt.imshow(results[:,:,i].T,cmap = 'jet', origin='lower')\n",
        "    ax = plt.gca()\n",
        "    ax.set_xticks(np.arange(0, 101,20))\n",
        "    ax.set_yticks(np.arange(0, 101,20))\n",
        "    ax.set_xticklabels(np.arange(-x_range, x_range+1, 2*x_range//5))\n",
        "    ax.set_yticklabels(np.arange(-x_range, x_range+1, 2*x_range//5))\n",
        "    plt.colorbar()\n",
        "    plt.title(titles[i])\n",
        "\n",
        "a = results[:,:,0]\n",
        "ind = np.unravel_index(np.argmax(a, axis=None), a.shape)\n",
        "\n",
        "print('seed', m, 'player B points:', results[ind[0],ind[1],1])\n",
        "print('ind ', ind)"
      ],
      "execution_count": 0,
      "outputs": [
        {
          "output_type": "stream",
          "text": [
            "seed 199 player B points: -1.606716513633728\n",
            "ind  (49, 50)\n"
          ],
          "name": "stdout"
        },
        {
          "output_type": "display_data",
          "data": {
            "image/png": "[encoded data removed]",
            "text/plain": [
              "<Figure size 1296x432 with 6 Axes>"
            ]
          },
          "metadata": {
            "tags": []
          }
        }
      ]
    },
    {
      "metadata": {
        "id": "JD9HAkilfpWD",
        "colab_type": "code",
        "colab": {}
      },
      "cell_type": "code",
      "source": [
        "# delta_y = vb_y - torch.reshape( va_xy.transpose(1,0) .matmul((va_xx.inverse()).matmul(vb_x)),vb_y.shape)\n",
        "# for i in range(len( ys )):\n",
        "#   print(i)\n",
        "# #   print('before', agent_b.optimizer.param_groups[0]['params'][i])\n",
        "#   delta_y = vb_y[i] - torch.reshape( va_xy[i].transpose(1,0) .matmul((va_xx[0].inverse()).matmul(vb_x[0])),vb_y[i].shape)\n",
        "#   agent_b.optimizer.param_groups[0]['params'][i] =delta_y  + agent_b.optimizer.param_groups[0]['params'][i] \n",
        "#   print('after', agent_b.optimizer.param_groups[0]['params'][i])\n",
        "#   # vb_y\n",
        "# # agent_b.optimizer.param_groups[0]['params']"
      ],
      "execution_count": 0,
      "outputs": []
    },
    {
      "metadata": {
        "id": "94WFIMpUfjgf",
        "colab_type": "code",
        "colab": {}
      },
      "cell_type": "code",
      "source": [
        "# print('vb_y', vb_y[i].shape)\n",
        "# print('vb_x', vb_x[0].shape)\n",
        "# print('va_xy', va_xy[i].shape)\n",
        "# print('va_x', va_x)\n",
        "# # va_xy\n",
        "# print(vb_x)\n",
        "xs = agent_a.optimizer.param_groups[0]['params']\n",
        "va_x = torch.autograd.grad(va, xs, create_graph=True, retain_graph=True )  # first order gradient\n",
        "grads = va_x\n",
        "xs =  agent_b.optimizer.param_groups[0]['params']\n",
        "grads2 = []\n",
        "for grad in grads:\n",
        "  for x in xs:\n",
        "    grad = torch.reshape(grad, [-1])\n",
        "    grads2_tmp = []\n",
        "    for count, g in enumerate(grad):\n",
        "        g2 = torch.autograd.grad(g, x, retain_graph=True, allow_unused=True)[0]\n",
        "        g2 = torch.reshape(g2, [-1])\n",
        "        grads2_tmp.append(g2.data.cpu().numpy())\n",
        "    grads2_tmp=np.array(grads2_tmp)\n",
        "    grads2.append(torch.from_numpy(grads2_tmp).to(device))"
      ],
      "execution_count": 0,
      "outputs": []
    },
    {
      "metadata": {
        "id": "jfss8RPk2WL5",
        "colab_type": "code",
        "outputId": "773e4bed-5f97-4c7e-fcaf-4d20b6e53b88",
        "colab": {
          "base_uri": "https://localhost:8080/",
          "height": 34
        }
      },
      "cell_type": "code",
      "source": [
        "grads2[0].shape"
      ],
      "execution_count": 0,
      "outputs": [
        {
          "output_type": "execute_result",
          "data": {
            "text/plain": [
              "torch.Size([2, 64])"
            ]
          },
          "metadata": {
            "tags": []
          },
          "execution_count": 253
        }
      ]
    },
    {
      "metadata": {
        "id": "f3IrTBQGXUSb",
        "colab_type": "code",
        "outputId": "0d9d5cc7-0173-47c1-ba74-ab740815ed27",
        "colab": {
          "base_uri": "https://localhost:8080/",
          "height": 643
        }
      },
      "cell_type": "code",
      "source": [
        "# Batch it like you mean it.\n",
        "\n",
        "def printnetwork(x_range):\n",
        "  numvals = 30\n",
        "  results = np.zeros((numvals, numvals))\n",
        "  ticks = []\n",
        "  for x in range(numvals):\n",
        "    ticks.append( -x_range + x/numvals*2*x_range)\n",
        "    for y in range(numvals):\n",
        "      results[x, y ] = nn.Softmax(0)( agent_b(  torch.tensor([-x_range + x/numvals*2*x_range,-x_range + y/numvals*2*x_range] )) )[0] # prob of agent B cooperating given agentA's policy\n",
        "  plt.imshow(results.T,cmap = 'jet', origin='lower')\n",
        "  ax = plt.gca()\n",
        "  ax.set_xticks(np.arange(0, numvals+1,numvals//5))\n",
        "  ax.set_yticks(np.arange(0, numvals+1,numvals//5))\n",
        "  ax.set_xticklabels(np.arange(-5, 6, 2))\n",
        "  ax.set_yticklabels(np.arange(-5, 6, 2))\n",
        "  # plt.xticks(ticks)\n",
        "  plt.colorbar()\n",
        "\n",
        "  None\n",
        "  \n",
        "\n",
        "plt.figure(figsize = (15,10))\n",
        "t=True; f=False\n",
        "stop_grad = f\n",
        "cooperative = f\n",
        "dbg = f\n",
        "torch.manual_seed(199)\n",
        "training_eps = 1 #8000\n",
        "n_inner_opt_a = 0 #1 == Agent A is LOLA\n",
        "n_inner_opt_b = 0 #1 == Agent B is LOLA\n",
        "lr_b = 0.0005\n",
        "lr_a = 0.0005\n",
        "agent_a_steps = 30000\n",
        "std = 3\n",
        "lr_in = lr_a\n",
        "batchsize = 128\n",
        "agent_a = nn.Sequential(\n",
        "    nn.Linear(batchsize, 2),\n",
        ")\n",
        "\n",
        "agent_b = nn.Sequential(\n",
        "    nn.Linear(2, 32),\n",
        "    nn.ReLU(),\n",
        "    nn.Linear(32, 32),\n",
        "    nn.ReLU(),\n",
        "#     nn.Linear(32, 32),\n",
        "#     nn.ReLU(),\n",
        "    nn.Linear(32, 2)\n",
        ")\n",
        "lrs = [lr_a, lr_b ]\n",
        "ops = [Adam, Adam]\n",
        "payout = torch.tensor(np.array([[-1.0,-3.0],[0.0, -2.0]]), dtype=torch.float)\n",
        "for i, net in enumerate([agent_a, agent_b]):\n",
        "  net.optimizer = ops[i](net.parameters(), lr=lrs[i])\n",
        "\n",
        "# Make it cooperative if you want to\n",
        "if cooperative:\n",
        "  payout = (payout + torch.transpose( payout,0,1))/2\n",
        "\n",
        "def get_return(agent_a, agent_b, overwrite = None):\n",
        "  if overwrite is not None:\n",
        "    batchsize = overwrite.data.numpy().shape[0]\n",
        "#   print(weights_a)\n",
        "    weights_a = overwrite\n",
        "    agent_a_in_b = overwrite\n",
        "  else:\n",
        "    weights_a = list(agent_a.parameters())[0].transpose(1,0)\n",
        "    batchsize = weights_a.data.numpy().shape[0]\n",
        "  if stop_grad:\n",
        "    agent_a_in_b = weights_a.clone().detach()\n",
        "  else:\n",
        "    agent_a_in_b = weights_a\n",
        "  pi_b = nn.Softmax(1)( agent_b(  agent_a_in_b ) ) # prob of agent B cooperating given agent A's policy \n",
        "  rews = torch.tensor([[0.0, 0.0]]*batchsize )\n",
        "  for u_b in [0,1]:\n",
        "    p_u_b = pi_b[:,u_b]\n",
        "    pi_a =  nn.Softmax(0)(torch.stack((weights_a[:,u_b],weights_a[:,u_b] * 0)))\n",
        "    for u_a in [0, 1]:\n",
        "      prob = pi_a[u_a] * p_u_b \n",
        "      # C  / D = 0 / 1. [-3, 0]\n",
        "      rews[:,0]+= prob * payout[ u_a, u_b]    \n",
        "      rews[:,1]+= prob * payout[ u_b, u_a]\n",
        "  return -rews\n",
        "\n",
        "def printagentaval(x_range):\n",
        "  plt.figure(figsize=(12,6))\n",
        "  numvals = 100\n",
        "  results = np.zeros((numvals, numvals, 2))\n",
        "  ticks = []\n",
        "  for x in range(numvals):\n",
        "    ticks.append( -x_range + x/numvals*2*x_range)\n",
        "    for y in range(numvals):\n",
        "      overwrite = torch.tensor([[-x_range + x/numvals*2*x_range,-x_range + y/numvals*2*x_range]] )\n",
        "      results[x, y ] =  -get_return(agent_a, agent_b, overwrite = overwrite).data \n",
        "#       results[x, y ] = nn.Softmax(0)( agent_b( ) )[0] # prob of agent B cooperating given agent A's policy \n",
        "  titles = ['A', 'B']\n",
        "  for i in range( 2 ):\n",
        "    plt.subplot(1,2, i + 1)\n",
        "    plt.imshow(results[:,:,i].T,cmap = 'jet', origin='lower')\n",
        "    ax = plt.gca()\n",
        "    ax.set_xticks(np.arange(0, 101,20))\n",
        "    ax.set_yticks(np.arange(0, 101,20))\n",
        "    ax.set_xticklabels(np.arange(-5, 6, 2))\n",
        "    ax.set_yticklabels(np.arange(-5, 6, 2))\n",
        "  # plt.xticks(ticks)\n",
        "    plt.colorbar()\n",
        "    plt.title(titles[i])\n",
        "\n",
        "def LOLA_step(net1, net2_, agent_a, n_inner_opt):\n",
        "    # net2_ = inner agent\n",
        "    # net1 = outer agent\n",
        "    # Inner optimization\n",
        "    agent_b = (agent_a + 1) % 2 \n",
        "    outer_agent = agent_a\n",
        "    inner_agent = (outer_agent+ 1) % 2 \n",
        "    nets = [ net1, net2_ ]\n",
        "    net_a = nets[agent_a]\n",
        "    net_b = nets[agent_b]\n",
        "    # Warning: This is kind of weird - doing the .sum() below is only valid for agent A in the lookahead step\n",
        "    for k in range(n_inner_opt):\n",
        "        objective2 = get_return(net_a, net_b)[:,inner_agent].sum()\n",
        "        differentiable_gradient_step(net2_, objective2, lr_in, inplace=True)\n",
        "    # Outer optimization\n",
        "    objective1 = get_return(net_a, net_b)[:,outer_agent].mean()\n",
        "    net1.optimizer.zero_grad()\n",
        "    objective1.backward()\n",
        "    net1.optimizer.step()\n",
        "res = []   \n",
        "for update in range(1):\n",
        "    vals = []\n",
        "    weights = []\n",
        "#     if  update % (training_eps// 12) == 0:\n",
        "#       if 1 + (update // (training_eps// 12)) < 13:\n",
        "#         plt.subplot(2, 6,  1 + (update // (training_eps// 12)) )\n",
        "#         printnetwork()\n",
        "    weights_init(agent_a, std)\n",
        "    for step in range( agent_a_steps ):\n",
        "      weights_before = list(agent_a.parameters())[0].transpose(1,0).data.clone()\n",
        "      objective1 = get_return(agent_a, agent_b)[:,0].sum()\n",
        "      agent_a.optimizer.zero_grad()\n",
        "      objective1.backward()\n",
        "      agent_a.optimizer.step()\n",
        "      weights_after = list(agent_a.parameters())[0].transpose(1,0).data.clone()\n",
        "      vals.append(weights_before - weights_after)\n",
        "      weights.append(weights_after)\n",
        "    \n",
        "    rews = -get_return(agent_a, agent_b).mean(0)\n",
        "    res.append( rews.data.numpy())\n",
        "    \n",
        "labels = ['nolola', 'lola']\n",
        "plt.savefig('batched_LAH_' +str(n_inner_opt_b) +'_LRA_' + str(lr_a) + '.pdf' )\n",
        "\n",
        "\n",
        "x_a = np.array(res)[:,0]\n",
        "x_b = np.array(res)[:,1]\n",
        "\n",
        "if False:\n",
        "  plt.plot(savgol_filter(x_a, 51, 3), 'r', label='Agent_a')\n",
        "  plt.plot(savgol_filter(x_b, 51, 3), 'b', label='Agent_b')\n",
        "  plt.legend()\n",
        "  None\n",
        "\n",
        "vals_x = training_eps // 2\n",
        "x_a = np.array(res)[:,0]\n",
        "x_b = np.array(res)[:,1]\n",
        "\n",
        "print('agent_a ret ', np.mean(x_a[vals_x:]))\n",
        "print('agent_b ret ', np.mean(x_b[vals_x:]))\n",
        "# plt.figure(figsize = (5,5))\n",
        "# # printnetwork()\n",
        "None\n",
        "plt.plot([abs(v.numpy()).mean() for v in vals])"
      ],
      "execution_count": 0,
      "outputs": [
        {
          "output_type": "stream",
          "text": [
            "agent_a ret  -1.0051143\n",
            "agent_b ret  -2.4766908\n"
          ],
          "name": "stdout"
        },
        {
          "output_type": "execute_result",
          "data": {
            "text/plain": [
              "[<matplotlib.lines.Line2D at 0x7eff1ff9eda0>]"
            ]
          },
          "metadata": {
            "tags": []
          },
          "execution_count": 57
        },
        {
          "output_type": "display_data",
          "data": {
            "image/png": "[encoded data removed]",
            "text/plain": [
              "<matplotlib.figure.Figure at 0x7eff1febe358>"
            ]
          },
          "metadata": {
            "tags": []
          }
        }
      ]
    },
    {
      "metadata": {
        "id": "Kuj8MAF7Co2Z",
        "colab_type": "code",
        "outputId": "8f9e8280-2da7-4ff5-fb32-538ebb8cf1e6",
        "colab": {
          "base_uri": "https://localhost:8080/",
          "height": 265
        }
      },
      "cell_type": "code",
      "source": [
        "# plt.plot([abs(v.numpy()).mean() for v in weights])\n",
        "for i in range(agent_a_steps)[ ::agent_a_steps//10]:\n",
        "  plt.scatter(weights[i].numpy()[:,0], weights[i].numpy()[:,1], alpha = i / agent_a_steps )"
      ],
      "execution_count": 0,
      "outputs": [
        {
          "output_type": "display_data",
          "data": {
            "image/png": "[encoded data removed]",
            "text/plain": [
              "<matplotlib.figure.Figure at 0x7eff225502b0>"
            ]
          },
          "metadata": {
            "tags": []
          }
        }
      ]
    },
    {
      "metadata": {
        "id": "a8yf1KSYVlVH",
        "colab_type": "code",
        "outputId": "f98fe19c-fb3b-41ef-d257-f7e122d6692c",
        "colab": {
          "base_uri": "https://localhost:8080/",
          "height": 357
        }
      },
      "cell_type": "code",
      "source": [
        "# def printagentaval():\n",
        "#   plt.figure(figsize=(12,6))\n",
        "#   numvals = 100\n",
        "#   x_range = 5\n",
        "#   results = np.zeros((numvals, numvals, 2))\n",
        "#   ticks = []\n",
        "#   for x in range(numvals):\n",
        "#     ticks.append( -x_range + x/numvals*2*x_range)\n",
        "#     for y in range(numvals):\n",
        "#       overwrite = torch.tensor([[-x_range + x/numvals*2*x_range,-x_range + y/numvals*2*x_range]] )\n",
        "#       results[x, y ] =  -get_return(agent_a, agent_b, overwrite = overwrite).data \n",
        "#   titles = ['A', 'B']\n",
        "#   for i in range( 2 ):\n",
        "#     plt.subplot(1,2, i + 1)\n",
        "#     plt.imshow(results[:,:,i].T,cmap = 'jet', origin='lower')\n",
        "#     ax = plt.gca()\n",
        "#     ax.set_xticks(np.arange(0, 101,20))\n",
        "#     ax.set_yticks(np.arange(0, 101,20))\n",
        "#     ax.set_xticklabels(np.arange(-5, 6, 2))\n",
        "#     ax.set_yticklabels(np.arange(-5, 6, 2))\n",
        "#     plt.colorbar()\n",
        "#     plt.title(titles[i])\n",
        "printagentaval(30)\n",
        "# -get_return(agent_a, agent_b, overwrite = overwrite) "
      ],
      "execution_count": 0,
      "outputs": [
        {
          "output_type": "display_data",
          "data": {
            "image/png": "[encoded data removed]",
            "text/plain": [
              "<matplotlib.figure.Figure at 0x7eff224d37b8>"
            ]
          },
          "metadata": {
            "tags": []
          }
        }
      ]
    },
    {
      "metadata": {
        "id": "X_yTSk8gI7lI",
        "colab_type": "code",
        "outputId": "7d9282ae-2968-41ec-f966-249a10dbfd20",
        "colab": {
          "base_uri": "https://localhost:8080/",
          "height": 269
        }
      },
      "cell_type": "code",
      "source": [
        "printnetwork(30)\n"
      ],
      "execution_count": 0,
      "outputs": [
        {
          "output_type": "display_data",
          "data": {
            "image/png": "[encoded data removed]",
            "text/plain": [
              "<matplotlib.figure.Figure at 0x7eff1ffe1588>"
            ]
          },
          "metadata": {
            "tags": []
          }
        }
      ]
    },
    {
      "metadata": {
        "id": "i_uti1Yp9AVP",
        "colab_type": "code",
        "outputId": "382abd47-f753-47a7-b12f-62b9abd463b0",
        "colab": {
          "base_uri": "https://localhost:8080/",
          "height": 1702
        }
      },
      "cell_type": "code",
      "source": [
        "# Best response training w/ and w/o LOLA. Awesome stuff.\n",
        "plt.figure(figsize = (20,30))\n",
        "t=True; f=False\n",
        "stop_grad = f\n",
        "cooperative = f\n",
        "dbg = f\n",
        "torch.manual_seed(3)\n",
        "learners = [0,1]\n",
        "training_eps = 50000 #8000\n",
        "n_inner_opt_a = 0 #1 == Agent A is LOLA\n",
        "n_inner_opt_b = 10 #1 == Agent B is LOLA\n",
        "lr_b = 0.0005\n",
        "lr_a = 1.0\n",
        "std = 3\n",
        "lr_in = lr_a\n",
        "agent_a = nn.Sequential(\n",
        "    nn.Linear(2, 1),\n",
        ")\n",
        "\n",
        "agent_b = nn.Sequential(\n",
        "    nn.Linear(2, 32),\n",
        "    nn.ReLU(),\n",
        "    nn.Linear(32, 32),\n",
        "    nn.ReLU(),\n",
        "    nn.Linear(32, 2)\n",
        ")\n",
        "lrs = [lr_a, lr_b ]\n",
        "ops = [SGD, Adam]\n",
        "payout = torch.tensor(np.array([[-1.0,-3.0],[0.0, -2.0]]), dtype=torch.float)\n",
        "printnetwork()\n",
        "for i, net in enumerate([agent_a, agent_b]):\n",
        "  net.optimizer = ops[i](net.parameters(), lr=lrs[i])\n",
        "\n",
        "# Make it cooperative if you want to\n",
        "if cooperative:\n",
        "  payout = (payout + torch.transpose( payout,0,1))/2\n",
        "\n",
        "def get_return(agent_a, agent_b, overwrite = None):\n",
        "  \n",
        "  if overwrite is not None:\n",
        "#   print(weights_a)\n",
        "    weights_a = overwrite\n",
        "    agent_a_in_b = overwrite\n",
        "  else:\n",
        "    weights_a = list(agent_a.parameters())[0][0]\n",
        "    if stop_grad:\n",
        "      agent_a_in_b = weights_a.clone().detach()\n",
        "    else:\n",
        "      agent_a_in_b = weights_a\n",
        "  pi_b = nn.Softmax(0)( agent_b(  agent_a_in_b ) ) # prob of agent B cooperating given agent A's policy \n",
        "  rews = torch.tensor([0.0, 0.0] )\n",
        "  for u_b in [0,1]:\n",
        "    p_u_b = pi_b[u_b]\n",
        "    pi_a =  nn.Softmax(0)(torch.stack((weights_a[u_b],weights_a[u_b] * 0)))\n",
        "    for u_a in [0, 1]:\n",
        "      prob = pi_a[u_a] * p_u_b \n",
        "      # C  / D = 0 / 1. [-3, 0]\n",
        "      rews[0]+= prob * payout[ u_a, u_b]    \n",
        "      rews[1]+= prob * payout[ u_b, u_a]\n",
        "  return -rews\n",
        "\n",
        "def printagentaval():\n",
        "  plt.figure(figsize=(12,6))\n",
        "  numvals = 100\n",
        "  x_range = 5\n",
        "  results = np.zeros((numvals, numvals, 2))\n",
        "  ticks = []\n",
        "  for x in range(numvals):\n",
        "    ticks.append( -x_range + x/numvals*2*x_range)\n",
        "    for y in range(numvals):\n",
        "      overwrite = torch.tensor([-x_range + x/numvals*2*x_range,-x_range + y/numvals*2*x_range] )\n",
        "      results[x, y ] =  -get_return(agent_a, agent_b, overwrite = overwrite).data \n",
        "#       results[x, y ] = nn.Softmax(0)( agent_b( ) )[0] # prob of agent B cooperating given agent A's policy \n",
        "  titles = ['A', 'B']\n",
        "  for i in range( 2 ):\n",
        "    plt.subplot(1,2, i + 1)\n",
        "    plt.imshow(results[:,:,i].T,cmap = 'jet', origin='lower')\n",
        "    ax = plt.gca()\n",
        "    ax.set_xticks(np.arange(0, 101,20))\n",
        "    ax.set_yticks(np.arange(0, 101,20))\n",
        "    ax.set_xticklabels(np.arange(-5, 6, 2))\n",
        "    ax.set_yticklabels(np.arange(-5, 6, 2))\n",
        "  # plt.xticks(ticks)\n",
        "    plt.colorbar()\n",
        "    plt.title(titles[i])\n",
        "\n",
        "def LOLA_step(net1, net2_, agent_a, n_inner_opt):\n",
        "    # net2_ = inner agent\n",
        "    # net1 = outer agent\n",
        "    # Inner optimization\n",
        "    agent_b = (agent_a + 1) % 2 \n",
        "    outer_agent = agent_a\n",
        "    inner_agent = (outer_agent+ 1) % 2 \n",
        "    nets = [ net1, net2_ ]\n",
        "    net_a = nets[agent_a]\n",
        "    net_b = nets[agent_b]\n",
        "    for k in range(n_inner_opt):\n",
        "        objective2 = get_return(net_a, net_b)[inner_agent]\n",
        "        differentiable_gradient_step(net2_, objective2, lr_in, inplace=True)\n",
        "    # Outer optimization\n",
        "    objective1 = get_return(net_a, net_b)[outer_agent]\n",
        "    net1.optimizer.zero_grad()\n",
        "    objective1.backward()\n",
        "    net1.optimizer.step()\n",
        "res = []   \n",
        "for update in range(training_eps):\n",
        "    if  update % (training_eps// 12) == 0:\n",
        "      print(update)\n",
        "      if 1 + (update // (training_eps// 12)) < 13:\n",
        "        plt.subplot(4, 3,  1 + (update // (training_eps// 12)) )\n",
        "        printnetwork()\n",
        "\n",
        "    weights_init(agent_a, std)\n",
        "    net1 = agent_a\n",
        "    net2 = agent_b\n",
        "    if n_inner_opt_a + n_inner_opt_b > 0:\n",
        "      net2_ = deepcopy(net2).to(device)\n",
        "      net1_ = deepcopy(net1).to(device)\n",
        "    else:\n",
        "      net2_ = net2 #deepcopy(net2).to(device)\n",
        "      net1_ = net1 #deepcopy(net1).to(device)\n",
        "    if dbg:\n",
        "      print('before, ', list(agent_a.parameters())[0][0])\n",
        "    LOLA_step(net1, net2_, 0, n_inner_opt_a)\n",
        "    if dbg:\n",
        "      print('after, ', list(agent_a.parameters())[0][0])\n",
        "    LOLA_step(net2, net1_, 1, n_inner_opt_b )   \n",
        "    \n",
        "    rews = -get_return(agent_a, agent_b)\n",
        "    res.append( rews.data.numpy())\n",
        "    \n",
        "labels = ['nolola', 'lola']\n",
        "plt.savefig('policy_LAH_' +str(n_inner_opt_b) +'_LRA_' + str(lr_a) + '.pdf' )\n",
        "# results:\n",
        "\n",
        "x_a = np.array(res)[:,0]\n",
        "x_b = np.array(res)[:,1]\n",
        "\n",
        "if False:\n",
        "  plt.plot(savgol_filter(x_a, 51, 3), 'r', label='Agent_a')\n",
        "  plt.plot(savgol_filter(x_b, 51, 3), 'b', label='Agent_b')\n",
        "  plt.legend()\n",
        "  None\n",
        "\n",
        "vals = training_eps // 2\n",
        "x_a = np.array(res)[:,0]\n",
        "x_b = np.array(res)[:,1]\n",
        "\n",
        "print('agent_a ret ', np.mean(x_a[vals:]))\n",
        "print('agent_b ret ', np.mean(x_b[vals:]))\n",
        "\n",
        "# printnetwork()"
      ],
      "execution_count": 0,
      "outputs": [
        {
          "output_type": "stream",
          "text": [
            "agent_a ret  -2.1187828\n",
            "agent_b ret  -1.0239877\n"
          ],
          "name": "stdout"
        },
        {
          "output_type": "display_data",
          "data": {
            "image/png": "[encoded data removed]",
            "text/plain": [
              "<matplotlib.figure.Figure at 0x7fd45ca04b38>"
            ]
          },
          "metadata": {
            "tags": []
          }
        }
      ]
    },
    {
      "metadata": {
        "id": "pNpCAvd15kUi",
        "colab_type": "code",
        "colab": {}
      },
      "cell_type": "code",
      "source": [
        "\n",
        "weights_a = list(agent_a.parameters())[0].transpose(1,0)\n",
        "if stop_grad:\n",
        "  agent_a_in_b = weights_a.clone().detach()\n",
        "else:\n",
        "  agent_a_in_b = weights_a\n",
        "pi_b = nn.Softmax(1)( agent_b(  agent_a_in_b ) ) # prob of agent B cooperating given agent A's policy \n",
        "rews = torch.tensor([[0.0, 0.0]]*batchsize )\n",
        "probs = torch.tensor([[0.0, 0.0]]*batchsize )\n",
        "\n",
        "for u_b in [0,1]:\n",
        "  p_u_b = pi_b[:,u_b]\n",
        "  pi_a =  nn.Softmax(0)(torch.stack((weights_a[:,u_b],weights_a[:,u_b] * 0)))\n",
        "  for u_a in [0, 1]:\n",
        "    prob = pi_a[u_a] * p_u_b \n",
        "    # C  / D = 0 / 1. [-3, 0]\n",
        "    rews[:,0]+= prob * payout[ u_a, u_b]    \n",
        "    rews[:,1]+= prob * payout[ u_b, u_a]\n",
        "    probs[:,0] +=prob\n"
      ],
      "execution_count": 0,
      "outputs": []
    },
    {
      "metadata": {
        "id": "3mFBgo7zr9jt",
        "colab_type": "code",
        "outputId": "4d859d0e-21fc-438d-e816-c813e746588b",
        "colab": {
          "base_uri": "https://localhost:8080/",
          "height": 34
        }
      },
      "cell_type": "code",
      "source": [
        "rews"
      ],
      "execution_count": 0,
      "outputs": [
        {
          "output_type": "execute_result",
          "data": {
            "text/plain": [
              "tensor([-0.4423, -2.1177], grad_fn=<NegBackward>)"
            ]
          },
          "metadata": {
            "tags": []
          },
          "execution_count": 280
        }
      ]
    },
    {
      "metadata": {
        "id": "RPvEBFGYgBwT",
        "colab_type": "code",
        "outputId": "4d63ab3d-4967-4c1a-b34f-6a30ac03df1d",
        "colab": {
          "base_uri": "https://localhost:8080/",
          "height": 85
        }
      },
      "cell_type": "code",
      "source": [
        "prob"
      ],
      "execution_count": 0,
      "outputs": [
        {
          "output_type": "execute_result",
          "data": {
            "text/plain": [
              "tensor([0.0330, 0.0016, 0.0251, 0.0016, 0.0235, 0.0000, 0.0245, 0.0210, 0.0006,\n",
              "        0.0218, 0.0111, 0.0355, 0.0223, 0.0284, 0.0085, 0.0259, 0.0229, 0.0007,\n",
              "        0.0120, 0.0203, 0.0040, 0.0197, 0.0269, 0.0133, 0.0439, 0.0365, 0.0012,\n",
              "        0.0016, 0.0193, 0.0001, 0.0282, 0.0264], grad_fn=<ThMulBackward>)"
            ]
          },
          "metadata": {
            "tags": []
          },
          "execution_count": 245
        }
      ]
    },
    {
      "metadata": {
        "id": "p4TStEiDgDeN",
        "colab_type": "code",
        "colab": {}
      },
      "cell_type": "code",
      "source": [
        "np.random.rand(1)"
      ],
      "execution_count": 0,
      "outputs": []
    },
    {
      "metadata": {
        "id": "21-nRyRT__gz",
        "colab_type": "code",
        "colab": {}
      },
      "cell_type": "code",
      "source": [
        "printagentaval()"
      ],
      "execution_count": 0,
      "outputs": []
    },
    {
      "metadata": {
        "id": "2RpjLoNzmtSl",
        "colab_type": "code",
        "colab": {}
      },
      "cell_type": "code",
      "source": [
        "min(1,n_inner_opt_b)"
      ],
      "execution_count": 0,
      "outputs": []
    },
    {
      "metadata": {
        "id": "q2BcznW8_RNH",
        "colab_type": "code",
        "colab": {}
      },
      "cell_type": "code",
      "source": [
        "x_a = np.array(res)[:,0]\n",
        "x_b = np.array(res)[:,1]\n",
        "\n",
        "plt.plot(savgol_filter(x_a, 51, 3), 'r', label='Agent_a')\n",
        "plt.plot(savgol_filter(x_b, 51, 3), 'b', label='Agent_b')\n",
        "plt.legend()\n",
        "None"
      ],
      "execution_count": 0,
      "outputs": []
    },
    {
      "metadata": {
        "id": "KDJNjyDaBAVs",
        "colab_type": "code",
        "colab": {}
      },
      "cell_type": "code",
      "source": [
        "plt.figure(figsize=(13,5))\n",
        "plt.subplot(1,2,1)\n",
        "plt.scatter(x_a[4000:],x_b[4000:],alpha = 0.2)\n",
        "\n",
        "None\n",
        "\n",
        "plt.subplot(1,2,2)\n",
        "plt.scatter(x_a[:4000],x_b[:4000],alpha = 0.2)\n",
        "None"
      ],
      "execution_count": 0,
      "outputs": []
    },
    {
      "metadata": {
        "id": "6omElAx8Fu9F",
        "colab_type": "code",
        "colab": {}
      },
      "cell_type": "code",
      "source": [
        "#With agent a learning\n",
        "\n",
        "vals = 4000\n",
        "plt.figure(figsize=(13,5))\n",
        "plt.subplot(1,2,1)\n",
        "plt.hist(x_a[vals:])\n",
        "None\n",
        "\n",
        "plt.subplot(1,2,2)\n",
        "plt.hist(x_b[vals:])\n",
        "None\n",
        "print('agent_a ret ', np.mean(x_a[vals:]))\n",
        "print('agent_b ret ', np.mean(x_b[vals:]))"
      ],
      "execution_count": 0,
      "outputs": []
    },
    {
      "metadata": {
        "id": "BnjLEicvCt5-",
        "colab_type": "code",
        "colab": {}
      },
      "cell_type": "code",
      "source": [
        "#No agent_a learning\n",
        "vals = 4000\n",
        "plt.figure(figsize=(13,5))\n",
        "plt.subplot(1,2,1)\n",
        "plt.hist(x_a[vals:])\n",
        "None\n",
        "\n",
        "plt.subplot(1,2,2)\n",
        "plt.hist(x_b[vals:])\n",
        "None\n",
        "print('agent_a ret ', np.mean(x_a[vals:]))\n",
        "print('agent_b ret ', np.mean(x_b[vals:]))"
      ],
      "execution_count": 0,
      "outputs": []
    },
    {
      "metadata": {
        "id": "cPGEYrDdX2YG",
        "colab_type": "code",
        "colab": {}
      },
      "cell_type": "code",
      "source": [
        "# take away: when B is LOLA, it can exploit agent A. But only if no stopgrad. \n",
        "# LOLA implementation\n",
        "t=True; f=False\n",
        "stop_grad = f\n",
        "cooperative = f\n",
        "torch.manual_seed(0)\n",
        "learners = [0,1]\n",
        "training_eps = 30000\n",
        "n_inner_opt_a = 1 #1 == Agent A is LOLA\n",
        "n_inner_opt_b = 1  #1 == Agent B is LOLA\n",
        "lr = 0.1\n",
        "lr_in = 1.\n",
        "agent_a = nn.Sequential(\n",
        "    nn.Linear(2, 1),\n",
        ")\n",
        "\n",
        "agent_b = nn.Sequential(\n",
        "#     nn.Linear(2, 32),\n",
        "#     nn.ReLU(),\n",
        "#     nn.Linear(32, 32),\n",
        "#     nn.ReLU(),\n",
        "    nn.Linear(2, 2)\n",
        ")\n",
        "\n",
        "payout = torch.tensor(np.array([[-1.0,-3.0],[0.0, -2.0]]), dtype=torch.float)\n",
        "\n",
        "for net in [agent_a, agent_b]:\n",
        "  net.optimizer = SGD(net.parameters(), lr=lr)\n",
        "\n",
        "# Make it cooperative if you want to\n",
        "if cooperative:\n",
        "  payout = (payout + torch.transpose( payout,0,1))/2\n",
        "\n",
        "def get_return(agent_a, agent_b):\n",
        "  weights_a = list(agent_a.parameters())[0][0]  # diff-able?\n",
        "  if stop_grad:\n",
        "    agent_a_in_b = weights_a.clone().detach()\n",
        "  else:\n",
        "    agent_a_in_b = weights_a\n",
        "  pi_b = nn.Softmax(0)( agent_b(  agent_a_in_b ) ) # prob of agent B cooperating given agent A's policy \n",
        "  rews = torch.tensor([0.0, 0.0] )\n",
        "  for u_b in [0,1]:\n",
        "    p_u_b = pi_b[u_b]\n",
        "    pi_a =  nn.Softmax(0)(torch.stack((weights_a[u_b],weights_a[u_b] * 0)))\n",
        "    for u_a in [0, 1]:\n",
        "      prob = pi_a[u_a] * p_u_b \n",
        "      # C  / D = 0 / 1. [-3, 0]\n",
        "      rews[0]+= prob * payout[ u_a, u_b]    \n",
        "      rews[1]+= prob * payout[ u_b, u_a]\n",
        "  return -rews\n",
        "\n",
        "\n",
        "def LOLA_step(net1, net2_, agent_a, n_inner_opt):\n",
        "    # net2_ = inner agent\n",
        "    # net1 = outer agent\n",
        "    # Inner optimization\n",
        "    agent_b = (agent_a + 1) % 2 \n",
        "    outer_agent = agent_a\n",
        "    inner_agent = (outer_agent+ 1) % 2 \n",
        "    nets = [ net1, net2_ ]\n",
        "    net_a = nets[agent_a]\n",
        "    net_b = nets[agent_b]\n",
        "#     current = list(net2_.parameters())\n",
        "#     print( \"before lookahead\", )\n",
        "    for k in range(n_inner_opt):\n",
        "        objective2 = get_return(net_a, net_b)[inner_agent]\n",
        "#              param = param - lr_in * grad2[i]\n",
        "#              print( \"after lookahead\", list(net2_.parameters())[i])\n",
        "        differentiable_gradient_step(net2_, objective2, lr_in, inplace=True)\n",
        "#     print( \"after lookahead\", list(net2_.parameters()))          \n",
        "#     new = list(net2_.parameters())\n",
        "#     print( agent_a)\n",
        "#     for i in range( len( new)):\n",
        "#       print( 'diffs', i, new[i]-current[i])\n",
        "    # Outer optimization\n",
        "    objective1 = get_return(net_a, net_b)[outer_agent]\n",
        "    net1.optimizer.zero_grad()\n",
        "    objective1.backward()\n",
        "    net1.optimizer.step()\n",
        "res = []   \n",
        "for update in range(training_eps):\n",
        "    net1 = agent_a\n",
        "    net2 = agent_b\n",
        "    net2_ = deepcopy(net2).to(device)\n",
        "    net1_ = deepcopy(net1).to(device)\n",
        "    LOLA_step(net1, net2_, 0, n_inner_opt_a)\n",
        "    LOLA_step(net2, net1_, 1, n_inner_opt_b )   \n",
        "    \n",
        "    rews = -get_return(agent_a, agent_b)\n",
        "    res.append( rews.data.numpy())\n",
        "      \n",
        "plt.plot(np.array(res)[:,0], 'r', label='Agent_a')\n",
        "plt.plot(np.array(res)[:,1], 'b', label='Agent_b')\n",
        "plt.legend()\n",
        "None"
      ],
      "execution_count": 0,
      "outputs": []
    },
    {
      "metadata": {
        "id": "yMdzyDmheHxG",
        "colab_type": "code",
        "colab": {}
      },
      "cell_type": "code",
      "source": [
        "current"
      ],
      "execution_count": 0,
      "outputs": []
    },
    {
      "metadata": {
        "id": "jBPqIVR9sUXB",
        "colab_type": "code",
        "colab": {}
      },
      "cell_type": "code",
      "source": [
        "# Naive learning Implementation\n",
        "stop_grad = False\n",
        "cooperative = False\n",
        "learners = [0,1]\n",
        "training_eps = 10000\n",
        "\n",
        "agent_a = init.normal_(torch.zeros(2, requires_grad=True ), std=1.0)\n",
        "agent_b = nn.Sequential(\n",
        "    nn.Linear(2, 32),\n",
        "    nn.ReLU(),\n",
        "    nn.Linear(32, 32),\n",
        "    nn.ReLU(),\n",
        "    nn.Linear(32, 2)\n",
        ")\n",
        "\n",
        "payout = torch.tensor(np.array([[-1.0,-3.0],[0.0, -2.0]]), dtype=torch.float)\n",
        "\n",
        "# Make it cooperative if you want to\n",
        "if cooperative:\n",
        "  payout = (payout + torch.transpose( payout,0,1))/2\n",
        "\n",
        "def get_return():\n",
        "  if stop_grad:\n",
        "    agent_a_in_b = agent_a.clone().detach()\n",
        "  else:\n",
        "    agent_a_in_b = agent_a\n",
        "  pi_b = nn.Softmax(0)( agent_b(  agent_a_in_b ) ) # prop of agent B cooperating given agent A's policy \n",
        "  rews = torch.tensor([0.0, 0.0] )\n",
        "  for u_b in [0,1]:\n",
        "    p_u_b = pi_b[u_b]\n",
        "    pi_a =  nn.Softmax(0)(torch.stack((agent_a[u_b],agent_a[u_b] * 0)))\n",
        "    for u_a in [0, 1]:\n",
        "      prob = pi_a[u_a] * p_u_b \n",
        "      # C  / D = 0 / 1. [-3, 0]\n",
        "      rews[0]+= prob * payout[ u_a, u_b]    \n",
        "      rews[1]+= prob * payout[ u_b, u_a]\n",
        "  return rews\n",
        "\n",
        "\n",
        "optimizers =  [ SGD([agent_a], lr=0.01),  SGD(agent_b.parameters(), lr=0.01)]\n",
        "res = []\n",
        "for i in range(training_eps):\n",
        "    rews = get_return()\n",
        "    res.append( rews.data.numpy())\n",
        "    for a in learners:\n",
        "      optimizers[a].zero_grad()\n",
        "      (-rews[a]).backward(retain_graph=True)\n",
        "      optimizers[a].step()\n",
        "      \n",
        "plt.plot(np.array(res)[:,0], 'r', label='Agent_a')\n",
        "plt.plot(np.array(res)[:,1], 'b', label='Agent_b')\n",
        "plt.legend()\n",
        "None"
      ],
      "execution_count": 0,
      "outputs": []
    },
    {
      "metadata": {
        "id": "9NmrFs-SZD81",
        "colab_type": "code",
        "colab": {}
      },
      "cell_type": "code",
      "source": [
        "for i, blub in enumerate(net2_.state_dict() ):\n",
        "  print(blub)"
      ],
      "execution_count": 0,
      "outputs": []
    },
    {
      "metadata": {
        "id": "6a6T3BvexB2u",
        "colab_type": "code",
        "colab": {}
      },
      "cell_type": "code",
      "source": [
        "agent_a = nn.Sequential(\n",
        "    nn.Linear(2, 1),\n",
        ")\n",
        "# Todo: Think about stop-gradients in the graph. \n",
        "# Todo: Think about LOLA. \n",
        "# Todo: Write paper. \n",
        "# Todo Sören: Add LOLA :) \n",
        "\n",
        "list(agent_a.parameters())[0]"
      ],
      "execution_count": 0,
      "outputs": []
    },
    {
      "metadata": {
        "id": "kRO0m0i1xne3",
        "colab_type": "code",
        "colab": {}
      },
      "cell_type": "code",
      "source": [
        "len(list(net2_.modules())[0]._parameters)"
      ],
      "execution_count": 0,
      "outputs": []
    },
    {
      "metadata": {
        "id": "NYzqGor3GW5y",
        "colab_type": "code",
        "colab": {}
      },
      "cell_type": "code",
      "source": [
        "list(net2_.modules())"
      ],
      "execution_count": 0,
      "outputs": []
    },
    {
      "metadata": {
        "id": "v8qh5Df_H96a",
        "colab_type": "code",
        "colab": {}
      },
      "cell_type": "code",
      "source": [
        "for layer in net2_.modules():\n",
        "   if isinstance(layer, nn.Linear):\n",
        "        layer.weight = torch.nn.Parameter(  layer.weight * 0)"
      ],
      "execution_count": 0,
      "outputs": []
    },
    {
      "metadata": {
        "id": "9psBcrXTIrQe",
        "colab_type": "code",
        "colab": {}
      },
      "cell_type": "code",
      "source": [
        "for layer in net2_.modules():\n",
        "   if isinstance(layer, nn.Linear):\n",
        "    print(        layer.weight )"
      ],
      "execution_count": 0,
      "outputs": []
    },
    {
      "metadata": {
        "id": "KN_-rYIgQ8MU",
        "colab_type": "code",
        "colab": {}
      },
      "cell_type": "code",
      "source": [
        ""
      ],
      "execution_count": 0,
      "outputs": []
    }
  ]
}