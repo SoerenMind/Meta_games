{
 "cells": [
  {
   "cell_type": "code",
   "execution_count": 1,
   "metadata": {},
   "outputs": [],
   "source": [
    "import matplotlib.pyplot as plt\n",
    "import numpy as np\n",
    "\n",
    "import metagames.functional as mf"
   ]
  },
  {
   "cell_type": "code",
   "execution_count": 2,
   "metadata": {},
   "outputs": [],
   "source": [
    "prisoners_dilemma = mf.main.GAMES['prisoners_dilemma']\n",
    "self_play_experiment = mf.experiment.SelfPlayExperiment(prisoners_dilemma, self_aware=False)"
   ]
  },
  {
   "cell_type": "code",
   "execution_count": 3,
   "metadata": {},
   "outputs": [
    {
     "data": {
      "text/plain": [
       "[PlayerSpecification(agent=SumAgent(), initializer=<function scaled_normal_initializer at 0x7fafb5942ea0>, loss=<class 'metagames.functional.losses.UtilityLoss'>, optimizer=<class 'torch.optim.sgd.SGD'>, learning_rate=0.1, step_rate=1, name='SumAgent_0')]"
      ]
     },
     "execution_count": 3,
     "metadata": {},
     "output_type": "execute_result"
    }
   ],
   "source": [
    "agent_config = {\n",
    "    'agent': 'sum',\n",
    "    'num_parameters': 10,\n",
    "    'initializer': 'scaled_normal',\n",
    "    'loss': 'utility',\n",
    "    'optimizer': 'grad',\n",
    "    'learning_rate': 1e-1,\n",
    "    'step_rate': 1,\n",
    "    'num_players': 1,\n",
    "}\n",
    "player_specs = mf.main.prepare_player_specifications([agent_config], agent_seed=1)\n",
    "player_specs"
   ]
  },
  {
   "cell_type": "code",
   "execution_count": 4,
   "metadata": {},
   "outputs": [],
   "source": [
    "data = self_play_experiment.run(player_specs, num_steps=1000)"
   ]
  },
  {
   "cell_type": "code",
   "execution_count": 5,
   "metadata": {},
   "outputs": [
    {
     "data": {
      "text/plain": [
       "{'opponent': PlayerSpecification(agent=SumAgent(), initializer=<function scaled_normal_initializer at 0x7fafb5942ea0>, loss=<class 'metagames.functional.losses.UtilityLoss'>, optimizer=<class 'torch.optim.sgd.SGD'>, learning_rate=0.1, step_rate=1, name='SumAgent_0'),\n",
       " 'utility': array(1.59915118),\n",
       " 'action_logit': array(-2.7645239),\n",
       " 'opponent_action_logit': array(-2.7645239)}"
      ]
     },
     "execution_count": 5,
     "metadata": {},
     "output_type": "execute_result"
    }
   ],
   "source": [
    "step_idx = 0         # Global step\n",
    "player_idx = 0       # Player index (in list of all players data['players']) \n",
    "player_step_idx = 0  # Player substep (may take multiple steps per global step)\n",
    "round_idx = 0        # Substep gradient may be accumulated over multiple rounds with different opponents\n",
    "data['steps'][step_idx]['player_updates'][player_idx][player_step_idx]['rounds'][round_idx]"
   ]
  },
  {
   "cell_type": "code",
   "execution_count": 6,
   "metadata": {},
   "outputs": [
    {
     "data": {
      "image/png": "[encoded data removed]",
      "text/plain": [
       "<Figure size 432x288 with 1 Axes>"
      ]
     },
     "metadata": {
      "needs_background": "light"
     },
     "output_type": "display_data"
    }
   ],
   "source": [
    "utilities = np.array([step_data['player_updates'][0][0]['mean_utility'] for step_data in data['steps']])\n",
    "player, = data['players']\n",
    "ax = plt.gca()\n",
    "ax.plot(utilities)\n",
    "ax.set_title(f'{player.name}')\n",
    "ax.set_ylabel('Utility')\n",
    "ax.set_xlabel('Global Step')\n",
    "plt.show()"
   ]
  },
  {
   "cell_type": "code",
   "execution_count": null,
   "metadata": {},
   "outputs": [],
   "source": []
  }
 ],
 "metadata": {
  "kernelspec": {
   "display_name": "Python 3 (eris)",
   "language": "python",
   "name": "eris"
  },
  "language_info": {
   "codemirror_mode": {
    "name": "ipython",
    "version": 3
   },
   "file_extension": ".py",
   "mimetype": "text/x-python",
   "name": "python",
   "nbconvert_exporter": "python",
   "pygments_lexer": "ipython3",
   "version": "3.6.6"
  }
 },
 "nbformat": 4,
 "nbformat_minor": 2
}
