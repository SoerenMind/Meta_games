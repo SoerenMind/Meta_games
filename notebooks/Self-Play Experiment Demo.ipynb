{
 "cells": [
  {
   "cell_type": "code",
   "execution_count": 1,
   "metadata": {},
   "outputs": [],
   "source": [
    "import matplotlib.pyplot as plt\n",
    "import numpy as np\n",
    "\n",
    "import metagames.functional as mf"
   ]
  },
  {
   "cell_type": "code",
   "execution_count": 6,
   "metadata": {},
   "outputs": [],
   "source": [
    "default_agent_config = {\n",
    "    'num_parameters': 10,\n",
    "    'initializer': 'scaled_normal',\n",
    "    'loss': 'utility',\n",
    "    'optimizer': 'grad',\n",
    "    'learning_rate': 1e-1,\n",
    "    'step_rate': 1,\n",
    "    'num_players': 1,\n",
    "}\n",
    "agent_configs = [\n",
    "    {\n",
    "        'agent': 'sum',\n",
    "    },\n",
    "    {\n",
    "        'agent': 'selfish',\n",
    "    },\n",
    "    {\n",
    "        'agent': 'linear',\n",
    "    },\n",
    "    {\n",
    "        'agent': 'nn',\n",
    "    },\n",
    "    {\n",
    "        'name': 'LinearDefect',\n",
    "        'agent': 'linear',\n",
    "        'loss': 'defect',\n",
    "    }\n",
    "]"
   ]
  },
  {
   "cell_type": "code",
   "execution_count": 7,
   "metadata": {},
   "outputs": [
    {
     "name": "stdout",
     "output_type": "stream",
     "text": [
      "False\n"
     ]
    }
   ],
   "source": [
    "data = mf.main.run_experiment(\n",
    "    experiment='self_play_self_unaware',\n",
    "    game='prisoners_dilemma',\n",
    "    num_steps=1000,\n",
    "    agents_config=agent_configs,\n",
    "    default_agent_config=default_agent_config,\n",
    "    agent_seed=1,\n",
    "    parameter_seed=2,\n",
    ")"
   ]
  },
  {
   "cell_type": "code",
   "execution_count": 8,
   "metadata": {},
   "outputs": [
    {
     "data": {
      "text/plain": [
       "{'opponent': PlayerSpecification(agent=SumAgent(), initializer=<function scaled_normal_initializer at 0x7f8b4c5d2f28>, loss=<class 'metagames.functional.losses.UtilityLoss'>, optimizer=<class 'torch.optim.sgd.SGD'>, learning_rate=0.1, step_rate=1, name='SumAgent'),\n",
       " 'utility': array(0.39813794),\n",
       " 'action_logit': array(-0.99099433),\n",
       " 'opponent_action_logit': array(-0.99099433)}"
      ]
     },
     "execution_count": 8,
     "metadata": {},
     "output_type": "execute_result"
    }
   ],
   "source": [
    "step_idx = 0         # Global step\n",
    "player_idx = 0       # Player index (in list of all players data['players']) \n",
    "player_step_idx = 0  # Player substep (may take multiple steps per global step)\n",
    "round_idx = 0        # Substep gradient may be accumulated over multiple rounds with different opponents\n",
    "data['steps'][step_idx]['player_updates'][player_idx][player_step_idx]['rounds'][round_idx]"
   ]
  },
  {
   "cell_type": "code",
   "execution_count": 9,
   "metadata": {},
   "outputs": [
    {
     "data": {
      "image/png": "[encoded data removed]",
      "text/plain": [
       "<Figure size 432x288 with 1 Axes>"
      ]
     },
     "metadata": {
      "needs_background": "light"
     },
     "output_type": "display_data"
    }
   ],
   "source": [
    "step_statistics = mf.data.experiment_step_statistics(data)\n",
    "ax = plt.gca()\n",
    "for player, player_stats in step_statistics.items():\n",
    "    plt.plot(player_stats['utility']['mean'], label=player)\n",
    "\n",
    "ax.legend()\n",
    "ax.set_ylabel('Utility')\n",
    "ax.set_xlabel('Global Step')\n",
    "plt.show()"
   ]
  }
 ],
 "metadata": {
  "kernelspec": {
   "display_name": "Python 3 (eris)",
   "language": "python",
   "name": "eris"
  },
  "language_info": {
   "codemirror_mode": {
    "name": "ipython",
    "version": 3
   },
   "file_extension": ".py",
   "mimetype": "text/x-python",
   "name": "python",
   "nbconvert_exporter": "python",
   "pygments_lexer": "ipython3",
   "version": "3.6.6"
  }
 },
 "nbformat": 4,
 "nbformat_minor": 2
}
